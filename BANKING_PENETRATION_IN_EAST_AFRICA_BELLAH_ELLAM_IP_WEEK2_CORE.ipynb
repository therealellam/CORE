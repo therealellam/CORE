{
  "nbformat": 4,
  "nbformat_minor": 0,
  "metadata": {
    "colab": {
      "name": "BANKING PENETRATION IN EAST AFRICA - BELLAH ELLAM_IP_WEEK2_CORE",
      "provenance": [],
      "collapsed_sections": [
        "MoU00x2inhId",
        "t5hVCfTqooX1",
        "WcS9vYRfqZsX"
      ],
      "authorship_tag": "ABX9TyNJkksrBUJ1ujaIhnlVmhWa",
      "include_colab_link": true
    },
    "kernelspec": {
      "name": "python3",
      "display_name": "Python 3"
    },
    "language_info": {
      "name": "python"
    }
  },
  "cells": [
    {
      "cell_type": "markdown",
      "metadata": {
        "id": "view-in-github",
        "colab_type": "text"
      },
      "source": [
        "<a href=\"https://colab.research.google.com/github/therealellam/CORE/blob/main/BANKING_PENETRATION_IN_EAST_AFRICA_BELLAH_ELLAM_IP_WEEK2_CORE.ipynb\" target=\"_parent\"><img src=\"https://colab.research.google.com/assets/colab-badge.svg\" alt=\"Open In Colab\"/></a>"
      ]
    },
    {
      "cell_type": "markdown",
      "metadata": {
        "id": "xXuM84OonUNe"
      },
      "source": [
        "# **1. Defining the Question**"
      ]
    },
    {
      "cell_type": "markdown",
      "metadata": {
        "id": "MoU00x2inhId"
      },
      "source": [
        "\n",
        ">  # a) Specifying the Question\n",
        "\n"
      ]
    },
    {
      "cell_type": "markdown",
      "metadata": {
        "id": "for14pTWoE8p"
      },
      "source": [
        "How we can predict which individuals are most likely to have or use a bank account to help provide an indication of the state of financial inclusion in Kenya, Rwanda, Tanzania, and Uganda"
      ]
    },
    {
      "cell_type": "markdown",
      "metadata": {
        "id": "t5hVCfTqooX1"
      },
      "source": [
        "> # b) Metrics for Success\n",
        "\n"
      ]
    },
    {
      "cell_type": "markdown",
      "metadata": {
        "id": "DK3bb3EzrtdO"
      },
      "source": [
        "Attrition levels\n"
      ]
    },
    {
      "cell_type": "markdown",
      "metadata": {
        "id": "xRYzt9rCoyDr"
      },
      "source": [
        "> # c) Understanding context"
      ]
    },
    {
      "cell_type": "markdown",
      "metadata": {
        "id": "AYaRb3bCo5qo"
      },
      "source": [
        "Financial Inclusion remains one of the main obstacles to economic and human development in Africa. For example, across Kenya, Rwanda, Tanzania, and Uganda only 9.1 million adults (or 13.9% of the adult population) have access to or use a commercial bank account. \n",
        "\n",
        "Access to bank accounts is therefore an essential contributor to long-term economic growth."
      ]
    },
    {
      "cell_type": "markdown",
      "metadata": {
        "id": "WcS9vYRfqZsX"
      },
      "source": [
        "> # d) Data Relevance"
      ]
    },
    {
      "cell_type": "markdown",
      "metadata": {
        "id": "NUVpV_psqk0Y"
      },
      "source": [
        "The main dataset contains demographic information and what financial services are used by individuals across East Africa. This data was extracted from various Finscope surveys ranging from 2016 to 2018 "
      ]
    },
    {
      "cell_type": "markdown",
      "metadata": {
        "id": "HEb1nTQqGO3T"
      },
      "source": [
        "# **2. Importing Libraries**"
      ]
    },
    {
      "cell_type": "code",
      "metadata": {
        "id": "emBhnkrtGEIi"
      },
      "source": [
        "#We first import python libraries we will use\n",
        "import pandas as pd\n",
        "import numpy as np\n",
        "import seaborn as sns\n",
        "import matplotlib.pyplot as plt"
      ],
      "execution_count": null,
      "outputs": []
    },
    {
      "cell_type": "markdown",
      "metadata": {
        "id": "mmzK3goiH0ex"
      },
      "source": [
        "# **3. Loading the Dataset**"
      ]
    },
    {
      "cell_type": "code",
      "metadata": {
        "colab": {
          "base_uri": "https://localhost:8080/",
          "height": 377
        },
        "id": "3UpgSMWPH8RI",
        "outputId": "16548889-7855-4c00-da79-c079c9066c5d"
      },
      "source": [
        "#Load the Data into a dataframe\n",
        "#The dataset used in this project was provided in the following \n",
        "#url = \"http://bit.ly/FinancialDataset\" \n",
        "\n",
        "df=pd.read_csv('/content/Financial Dataset - 1.csv')\n",
        "\n",
        "#Viewing the first 5 entries\n",
        "df.head()"
      ],
      "execution_count": null,
      "outputs": [
        {
          "output_type": "execute_result",
          "data": {
            "text/html": [
              "<div>\n",
              "<style scoped>\n",
              "    .dataframe tbody tr th:only-of-type {\n",
              "        vertical-align: middle;\n",
              "    }\n",
              "\n",
              "    .dataframe tbody tr th {\n",
              "        vertical-align: top;\n",
              "    }\n",
              "\n",
              "    .dataframe thead th {\n",
              "        text-align: right;\n",
              "    }\n",
              "</style>\n",
              "<table border=\"1\" class=\"dataframe\">\n",
              "  <thead>\n",
              "    <tr style=\"text-align: right;\">\n",
              "      <th></th>\n",
              "      <th>country</th>\n",
              "      <th>year</th>\n",
              "      <th>uniqueid</th>\n",
              "      <th>Has a Bank account</th>\n",
              "      <th>Type of Location</th>\n",
              "      <th>Cell Phone Access</th>\n",
              "      <th>household_size</th>\n",
              "      <th>Respondent Age</th>\n",
              "      <th>gender_of_respondent</th>\n",
              "      <th>The relathip with head</th>\n",
              "      <th>marital_status</th>\n",
              "      <th>Level of Educuation</th>\n",
              "      <th>Type of Job</th>\n",
              "    </tr>\n",
              "  </thead>\n",
              "  <tbody>\n",
              "    <tr>\n",
              "      <th>0</th>\n",
              "      <td>Kenya</td>\n",
              "      <td>2018</td>\n",
              "      <td>uniqueid_1</td>\n",
              "      <td>Yes</td>\n",
              "      <td>Rural</td>\n",
              "      <td>Yes</td>\n",
              "      <td>3.0</td>\n",
              "      <td>24.0</td>\n",
              "      <td>Female</td>\n",
              "      <td>Spouse</td>\n",
              "      <td>Married/Living together</td>\n",
              "      <td>Secondary education</td>\n",
              "      <td>Self employed</td>\n",
              "    </tr>\n",
              "    <tr>\n",
              "      <th>1</th>\n",
              "      <td>Kenya</td>\n",
              "      <td>2018</td>\n",
              "      <td>uniqueid_2</td>\n",
              "      <td>No</td>\n",
              "      <td>Rural</td>\n",
              "      <td>No</td>\n",
              "      <td>5.0</td>\n",
              "      <td>70.0</td>\n",
              "      <td>Female</td>\n",
              "      <td>Head of Household</td>\n",
              "      <td>Widowed</td>\n",
              "      <td>No formal education</td>\n",
              "      <td>Government Dependent</td>\n",
              "    </tr>\n",
              "    <tr>\n",
              "      <th>2</th>\n",
              "      <td>Kenya</td>\n",
              "      <td>2018</td>\n",
              "      <td>uniqueid_3</td>\n",
              "      <td>Yes</td>\n",
              "      <td>Urban</td>\n",
              "      <td>Yes</td>\n",
              "      <td>5.0</td>\n",
              "      <td>26.0</td>\n",
              "      <td>Male</td>\n",
              "      <td>Other relative</td>\n",
              "      <td>Single/Never Married</td>\n",
              "      <td>Vocational/Specialised training</td>\n",
              "      <td>Self employed</td>\n",
              "    </tr>\n",
              "    <tr>\n",
              "      <th>3</th>\n",
              "      <td>Kenya</td>\n",
              "      <td>2018</td>\n",
              "      <td>uniqueid_4</td>\n",
              "      <td>No</td>\n",
              "      <td>Rural</td>\n",
              "      <td>Yes</td>\n",
              "      <td>5.0</td>\n",
              "      <td>34.0</td>\n",
              "      <td>Female</td>\n",
              "      <td>Head of Household</td>\n",
              "      <td>Married/Living together</td>\n",
              "      <td>Primary education</td>\n",
              "      <td>Formally employed Private</td>\n",
              "    </tr>\n",
              "    <tr>\n",
              "      <th>4</th>\n",
              "      <td>Kenya</td>\n",
              "      <td>2018</td>\n",
              "      <td>uniqueid_5</td>\n",
              "      <td>No</td>\n",
              "      <td>Urban</td>\n",
              "      <td>No</td>\n",
              "      <td>8.0</td>\n",
              "      <td>26.0</td>\n",
              "      <td>Male</td>\n",
              "      <td>Child</td>\n",
              "      <td>Single/Never Married</td>\n",
              "      <td>Primary education</td>\n",
              "      <td>Informally employed</td>\n",
              "    </tr>\n",
              "  </tbody>\n",
              "</table>\n",
              "</div>"
            ],
            "text/plain": [
              "  country  year  ...              Level of Educuation                Type of Job\n",
              "0   Kenya  2018  ...              Secondary education              Self employed\n",
              "1   Kenya  2018  ...              No formal education       Government Dependent\n",
              "2   Kenya  2018  ...  Vocational/Specialised training              Self employed\n",
              "3   Kenya  2018  ...                Primary education  Formally employed Private\n",
              "4   Kenya  2018  ...                Primary education        Informally employed\n",
              "\n",
              "[5 rows x 13 columns]"
            ]
          },
          "metadata": {},
          "execution_count": 229
        }
      ]
    },
    {
      "cell_type": "markdown",
      "metadata": {
        "id": "HcBkieyaKKQt"
      },
      "source": [
        "# **4. Checking the Data**"
      ]
    },
    {
      "cell_type": "code",
      "metadata": {
        "colab": {
          "base_uri": "https://localhost:8080/"
        },
        "id": "fzBa_6BCKPeM",
        "outputId": "e1842e2f-c8dc-494a-c34f-c6ff285571fe"
      },
      "source": [
        "# Determining the no. of records in the dataset\n",
        "df.shape"
      ],
      "execution_count": null,
      "outputs": [
        {
          "output_type": "execute_result",
          "data": {
            "text/plain": [
              "(23524, 13)"
            ]
          },
          "metadata": {},
          "execution_count": 230
        }
      ]
    },
    {
      "cell_type": "code",
      "metadata": {
        "colab": {
          "base_uri": "https://localhost:8080/"
        },
        "id": "aTJ-bTL5KcCG",
        "outputId": "6d1e80e1-45d9-49cd-ac7d-32094b8d8023"
      },
      "source": [
        "# Checking whether each column has an appropriate datatype\n",
        "df.dtypes"
      ],
      "execution_count": null,
      "outputs": [
        {
          "output_type": "execute_result",
          "data": {
            "text/plain": [
              "country                    object\n",
              "year                        int64\n",
              "uniqueid                   object\n",
              "Has a Bank account         object\n",
              "Type of Location           object\n",
              "Cell Phone Access          object\n",
              "household_size            float64\n",
              "Respondent Age            float64\n",
              "gender_of_respondent       object\n",
              "The relathip with head     object\n",
              "marital_status             object\n",
              "Level of Educuation        object\n",
              "Type of Job                object\n",
              "dtype: object"
            ]
          },
          "metadata": {},
          "execution_count": 231
        }
      ]
    },
    {
      "cell_type": "markdown",
      "metadata": {
        "id": "EM8VtCQSKwB1"
      },
      "source": [
        "# **5. Tidying the Dataset**"
      ]
    },
    {
      "cell_type": "code",
      "metadata": {
        "colab": {
          "base_uri": "https://localhost:8080/"
        },
        "id": "98mVfAA-K1Ez",
        "outputId": "4303d86b-9eaf-4355-ae54-ac5fc7214413"
      },
      "source": [
        "#Checking for Missing Values\n",
        "df.isnull().values.any()"
      ],
      "execution_count": null,
      "outputs": [
        {
          "output_type": "execute_result",
          "data": {
            "text/plain": [
              "True"
            ]
          },
          "metadata": {},
          "execution_count": 232
        }
      ]
    },
    {
      "cell_type": "code",
      "metadata": {
        "colab": {
          "base_uri": "https://localhost:8080/"
        },
        "id": "iGT9pNz0K88i",
        "outputId": "b561856f-96a5-4d2b-e503-6e83e6e8d9cb"
      },
      "source": [
        "# Dealing with the Missing Data\n",
        "df.isnull().sum()"
      ],
      "execution_count": null,
      "outputs": [
        {
          "output_type": "execute_result",
          "data": {
            "text/plain": [
              "country                   14\n",
              "year                       0\n",
              "uniqueid                   0\n",
              "Has a Bank account        36\n",
              "Type of Location          15\n",
              "Cell Phone Access         11\n",
              "household_size            28\n",
              "Respondent Age            34\n",
              "gender_of_respondent      34\n",
              "The relathip with head     4\n",
              "marital_status            32\n",
              "Level of Educuation       29\n",
              "Type of Job               30\n",
              "dtype: int64"
            ]
          },
          "metadata": {},
          "execution_count": 233
        }
      ]
    },
    {
      "cell_type": "code",
      "metadata": {
        "colab": {
          "base_uri": "https://localhost:8080/"
        },
        "id": "220zmE20LA71",
        "outputId": "c2de669b-0aa0-4366-fc38-78f564edb6d6"
      },
      "source": [
        "#dropping rows with na values\n",
        "df1= df.dropna(axis=0)\n",
        "df1.shape"
      ],
      "execution_count": null,
      "outputs": [
        {
          "output_type": "execute_result",
          "data": {
            "text/plain": [
              "(23343, 13)"
            ]
          },
          "metadata": {},
          "execution_count": 234
        }
      ]
    },
    {
      "cell_type": "code",
      "metadata": {
        "colab": {
          "base_uri": "https://localhost:8080/"
        },
        "id": "P5TC5QdYcCdt",
        "outputId": "b3766c0e-549a-432d-e4b6-5a298e0dfad7"
      },
      "source": [
        "#Checking if there are null values in the new dataframe\n",
        "df1.isnull().values.any()"
      ],
      "execution_count": null,
      "outputs": [
        {
          "output_type": "execute_result",
          "data": {
            "text/plain": [
              "False"
            ]
          },
          "metadata": {},
          "execution_count": 235
        }
      ]
    },
    {
      "cell_type": "markdown",
      "metadata": {
        "id": "aRBx3hEytdHY"
      },
      "source": [
        "# **6. Renaming Columns**"
      ]
    },
    {
      "cell_type": "code",
      "metadata": {
        "colab": {
          "base_uri": "https://localhost:8080/"
        },
        "id": "wSLmze72thHP",
        "outputId": "03544870-ed05-4f1d-d58c-79940cbf8177"
      },
      "source": [
        "df2= df1.rename(columns = {'Has a Bank account': 'Bank account', 'Type of Location': 'Location type',\n",
        "                           'gender_of_respondent': 'Gender','Type of Job': 'Job type'}, inplace = False)\n",
        "df2.columns"
      ],
      "execution_count": null,
      "outputs": [
        {
          "output_type": "execute_result",
          "data": {
            "text/plain": [
              "Index(['country', 'year', 'uniqueid', 'Bank account', 'Location type',\n",
              "       'Cell Phone Access', 'household_size', 'Respondent Age', 'Gender',\n",
              "       'The relathip with head', 'marital_status', 'Level of Educuation',\n",
              "       'Job type'],\n",
              "      dtype='object')"
            ]
          },
          "metadata": {},
          "execution_count": 236
        }
      ]
    },
    {
      "cell_type": "markdown",
      "metadata": {
        "id": "XEx7hsra3BK6"
      },
      "source": [
        "# **7. Checking for & Removing Duplicates**"
      ]
    },
    {
      "cell_type": "code",
      "metadata": {
        "colab": {
          "base_uri": "https://localhost:8080/"
        },
        "id": "YJxThUr-209p",
        "outputId": "fccc0d5f-3848-40a7-beee-24f23a673774"
      },
      "source": [
        "#checking data for duplicates\n",
        "df2.duplicated().values.any()"
      ],
      "execution_count": null,
      "outputs": [
        {
          "output_type": "execute_result",
          "data": {
            "text/plain": [
              "False"
            ]
          },
          "metadata": {},
          "execution_count": 237
        }
      ]
    },
    {
      "cell_type": "code",
      "metadata": {
        "colab": {
          "base_uri": "https://localhost:8080/"
        },
        "id": "pG6dWiuA3cDm",
        "outputId": "1f7c4e57-8dff-4946-b249-1cf23892e7c5"
      },
      "source": [
        "#Dropping Duplicates\n",
        "df2.drop_duplicates(keep=False,inplace=True)\n",
        "\n",
        "df2.duplicated().values.any()\n"
      ],
      "execution_count": null,
      "outputs": [
        {
          "output_type": "execute_result",
          "data": {
            "text/plain": [
              "False"
            ]
          },
          "metadata": {},
          "execution_count": 238
        }
      ]
    },
    {
      "cell_type": "markdown",
      "metadata": {
        "id": "hSOPQEUa4JQw"
      },
      "source": [
        "# **EXPLORATORY ANALYSIS**"
      ]
    },
    {
      "cell_type": "markdown",
      "metadata": {
        "id": "XUx11QaT4QeN"
      },
      "source": [
        "# **Univariate Analysis - Categorical Variables**"
      ]
    },
    {
      "cell_type": "code",
      "metadata": {
        "colab": {
          "base_uri": "https://localhost:8080/"
        },
        "id": "41Sz-5956DbJ",
        "outputId": "c5313120-c935-46ed-82f0-d6e752122881"
      },
      "source": [
        "#checking column data type\n",
        "df2.dtypes"
      ],
      "execution_count": null,
      "outputs": [
        {
          "output_type": "execute_result",
          "data": {
            "text/plain": [
              "country                    object\n",
              "year                        int64\n",
              "uniqueid                   object\n",
              "Bank account               object\n",
              "Location type              object\n",
              "Cell Phone Access          object\n",
              "household_size            float64\n",
              "Respondent Age            float64\n",
              "Gender                     object\n",
              "The relathip with head     object\n",
              "marital_status             object\n",
              "Level of Educuation        object\n",
              "Job type                   object\n",
              "dtype: object"
            ]
          },
          "metadata": {},
          "execution_count": 239
        }
      ]
    },
    {
      "cell_type": "code",
      "metadata": {
        "colab": {
          "base_uri": "https://localhost:8080/",
          "height": 1000
        },
        "id": "5ft33T8l-dTO",
        "outputId": "36c94da2-1a02-4a5a-fa4e-ac6c932f4dc8"
      },
      "source": [
        "#Frequency Tables\n",
        "\n",
        "col_cat= df2.columns[df2.dtypes == 'object']\n",
        "\n",
        "col_cat\n",
        "\n",
        "print(\"Country Column Frequency table\")\n",
        "display(df2.country.value_counts())\n",
        "print('')\n",
        "\n",
        "print(\"Gender Column Frequency table\")\n",
        "display(df2.Gender.value_counts())\n",
        "print('')\n",
        "\n",
        "print(\"Bank account Column Frequency table\")\n",
        "display(df2['Bank account'].value_counts())\n",
        "print('')\n",
        "\n",
        "print(\"Location type Column Frequency table\")\n",
        "display(df2['Location type'].value_counts())\n",
        "print('')\n",
        "\n",
        "print(\"Cell Phone Access Column Frequency table\")\n",
        "display(df2['Cell Phone Access'].value_counts())\n",
        "print('')\n",
        "\n",
        "print(\"The relathip with head Column Frequency table\")\n",
        "display(df2['The relathip with head'].value_counts())\n",
        "print('')\n",
        "\n",
        "print(\"marital_status Column Frequency table\")\n",
        "display(df2['marital_status'].value_counts())\n",
        "print('')\n",
        "\n",
        "print(\"Level of Educuation Column Frequency table\")\n",
        "display(df2['Level of Educuation'].value_counts())\n",
        "print('')\n",
        "\n",
        "print(\"Job type Column Frequency table\")\n",
        "display(df2['Job type'].value_counts())\n",
        "print('')"
      ],
      "execution_count": null,
      "outputs": [
        {
          "output_type": "stream",
          "name": "stdout",
          "text": [
            "Country Column Frequency table\n"
          ]
        },
        {
          "output_type": "display_data",
          "data": {
            "text/plain": [
              "Rwanda      8684\n",
              "Tanzania    6500\n",
              "Kenya       6064\n",
              "Uganda      2095\n",
              "Name: country, dtype: int64"
            ]
          },
          "metadata": {}
        },
        {
          "output_type": "stream",
          "name": "stdout",
          "text": [
            "\n",
            "Gender Column Frequency table\n"
          ]
        },
        {
          "output_type": "display_data",
          "data": {
            "text/plain": [
              "Female    13767\n",
              "Male       9576\n",
              "Name: Gender, dtype: int64"
            ]
          },
          "metadata": {}
        },
        {
          "output_type": "stream",
          "name": "stdout",
          "text": [
            "\n",
            "Bank account Column Frequency table\n"
          ]
        },
        {
          "output_type": "display_data",
          "data": {
            "text/plain": [
              "No     20046\n",
              "Yes     3297\n",
              "Name: Bank account, dtype: int64"
            ]
          },
          "metadata": {}
        },
        {
          "output_type": "stream",
          "name": "stdout",
          "text": [
            "\n",
            "Location type Column Frequency table\n"
          ]
        },
        {
          "output_type": "display_data",
          "data": {
            "text/plain": [
              "Rural    14264\n",
              "Urban     9079\n",
              "Name: Location type, dtype: int64"
            ]
          },
          "metadata": {}
        },
        {
          "output_type": "stream",
          "name": "stdout",
          "text": [
            "\n",
            "Cell Phone Access Column Frequency table\n"
          ]
        },
        {
          "output_type": "display_data",
          "data": {
            "text/plain": [
              "Yes    17334\n",
              "No      6009\n",
              "Name: Cell Phone Access, dtype: int64"
            ]
          },
          "metadata": {}
        },
        {
          "output_type": "stream",
          "name": "stdout",
          "text": [
            "\n",
            "The relathip with head Column Frequency table\n"
          ]
        },
        {
          "output_type": "display_data",
          "data": {
            "text/plain": [
              "Head of Household      12730\n",
              "Spouse                  6471\n",
              "Child                   2221\n",
              "Parent                  1069\n",
              "Other relative           663\n",
              "Other non-relatives      189\n",
              "Name: The relathip with head, dtype: int64"
            ]
          },
          "metadata": {}
        },
        {
          "output_type": "stream",
          "name": "stdout",
          "text": [
            "\n",
            "marital_status Column Frequency table\n"
          ]
        },
        {
          "output_type": "display_data",
          "data": {
            "text/plain": [
              "Married/Living together    10700\n",
              "Single/Never Married        7903\n",
              "Widowed                     2683\n",
              "Divorced/Seperated          2049\n",
              "Dont know                      8\n",
              "Name: marital_status, dtype: int64"
            ]
          },
          "metadata": {}
        },
        {
          "output_type": "stream",
          "name": "stdout",
          "text": [
            "\n",
            "Level of Educuation Column Frequency table\n"
          ]
        },
        {
          "output_type": "display_data",
          "data": {
            "text/plain": [
              "Primary education                  12689\n",
              "No formal education                 4467\n",
              "Secondary education                 4207\n",
              "Tertiary education                  1144\n",
              "Vocational/Specialised training      801\n",
              "6                                     27\n",
              "Other/Dont know/RTA                    8\n",
              "Name: Level of Educuation, dtype: int64"
            ]
          },
          "metadata": {}
        },
        {
          "output_type": "stream",
          "name": "stdout",
          "text": [
            "\n",
            "Job type Column Frequency table\n"
          ]
        },
        {
          "output_type": "display_data",
          "data": {
            "text/plain": [
              "Self employed                   6361\n",
              "Informally employed             5550\n",
              "Farming and Fishing             5422\n",
              "Remittance Dependent            2509\n",
              "Other Income                    1077\n",
              "Formally employed Private       1048\n",
              "No Income                        618\n",
              "Formally employed Government     386\n",
              "Government Dependent             247\n",
              "Dont Know/Refuse to answer       125\n",
              "Name: Job type, dtype: int64"
            ]
          },
          "metadata": {}
        },
        {
          "output_type": "stream",
          "name": "stdout",
          "text": [
            "\n"
          ]
        }
      ]
    },
    {
      "cell_type": "code",
      "metadata": {
        "colab": {
          "base_uri": "https://localhost:8080/",
          "height": 264
        },
        "id": "OCMoAfihD8_Y",
        "outputId": "3bbe8615-493e-464f-cb77-b0f95e5c13f4"
      },
      "source": [
        "#Plotting Pie Graphs - Gender Representation\n",
        "\n",
        "tp = df2.Gender.unique()\n",
        "Gender = df2.groupby(['Gender'])[\"uniqueid\"].count()\n",
        "\n",
        "plt.pie(Gender, labels = tp, autopct = '%1.1f%%', shadow = True, startangle = 180)\n",
        "plt.axis('equal')\n",
        "plt.title('Pie Chart of % of Total Respondents by Gender')\n",
        "plt.show()\n"
      ],
      "execution_count": null,
      "outputs": [
        {
          "output_type": "display_data",
          "data": {
            "image/png": "[encoded data removed]",
            "text/plain": [
              "<Figure size 432x288 with 1 Axes>"
            ]
          },
          "metadata": {}
        }
      ]
    },
    {
      "cell_type": "markdown",
      "metadata": {
        "id": "LzX-i3A0txOL"
      },
      "source": [
        "59% of our sample constituted of female respondents while the male made up for the remaining 41%"
      ]
    },
    {
      "cell_type": "code",
      "metadata": {
        "colab": {
          "base_uri": "https://localhost:8080/",
          "height": 264
        },
        "id": "6_VLb0z3R5Ev",
        "outputId": "11800fd4-2cd6-4df5-8da1-8c08f091cd9c"
      },
      "source": [
        "#Country Representation\n",
        "\n",
        "tp = df2.country.unique()\n",
        "country = df2.groupby(['country'])[\"uniqueid\"].count()\n",
        "\n",
        "plt.pie(country, labels = tp, autopct = '%1.1f%%', shadow = True, startangle = 90)\n",
        "plt.axis('equal')\n",
        "plt.title('Pie Chart of % of Total Respondents by Country')\n",
        "plt.show()"
      ],
      "execution_count": null,
      "outputs": [
        {
          "output_type": "display_data",
          "data": {
            "image/png": "[encoded data removed]",
            "text/plain": [
              "<Figure size 432x288 with 1 Axes>"
            ]
          },
          "metadata": {}
        }
      ]
    },
    {
      "cell_type": "markdown",
      "metadata": {
        "id": "hyroBrIHuHap"
      },
      "source": [
        "Of the the total sample size, 37% of the respondents were from Rwanda, 29% from Tanzania, 265 from kenya and only 9% from Uganda"
      ]
    },
    {
      "cell_type": "code",
      "metadata": {
        "colab": {
          "base_uri": "https://localhost:8080/",
          "height": 677
        },
        "id": "RFSGIxEZWF8K",
        "outputId": "c06cb9b2-f801-4934-92ed-d34908b590da"
      },
      "source": [
        "plt.figure(figsize=(17, 10))\n",
        "sns.countplot(df['Level of Educuation'], order = df['Level of Educuation'].value_counts().index)"
      ],
      "execution_count": null,
      "outputs": [
        {
          "output_type": "stream",
          "name": "stderr",
          "text": [
            "/usr/local/lib/python3.7/dist-packages/seaborn/_decorators.py:43: FutureWarning: Pass the following variable as a keyword arg: x. From version 0.12, the only valid positional argument will be `data`, and passing other arguments without an explicit keyword will result in an error or misinterpretation.\n",
            "  FutureWarning\n"
          ]
        },
        {
          "output_type": "execute_result",
          "data": {
            "text/plain": [
              "<matplotlib.axes._subplots.AxesSubplot at 0x7f3d4da6f750>"
            ]
          },
          "metadata": {},
          "execution_count": 243
        },
        {
          "output_type": "display_data",
          "data": {
            "image/png": "[encoded data removed]",
            "text/plain": [
              "<Figure size 1224x720 with 1 Axes>"
            ]
          },
          "metadata": {
            "needs_background": "light"
          }
        }
      ]
    },
    {
      "cell_type": "markdown",
      "metadata": {
        "id": "OixQZEQouVUB"
      },
      "source": [
        "The plot above shows that many of our respondents apprx 11000 only had primary level of Education"
      ]
    },
    {
      "cell_type": "code",
      "metadata": {
        "colab": {
          "base_uri": "https://localhost:8080/",
          "height": 513
        },
        "id": "W9eHsPeKeaGM",
        "outputId": "c5feb711-f21d-48b1-97ac-a5abc700fd59"
      },
      "source": [
        "#plotting Age values to find outliers\n",
        "plt.figure(figsize=(10, 7))\n",
        "sns.boxplot(df2[\"Respondent Age\"], showmeans=True)"
      ],
      "execution_count": null,
      "outputs": [
        {
          "output_type": "stream",
          "name": "stderr",
          "text": [
            "/usr/local/lib/python3.7/dist-packages/seaborn/_decorators.py:43: FutureWarning: Pass the following variable as a keyword arg: x. From version 0.12, the only valid positional argument will be `data`, and passing other arguments without an explicit keyword will result in an error or misinterpretation.\n",
            "  FutureWarning\n"
          ]
        },
        {
          "output_type": "execute_result",
          "data": {
            "text/plain": [
              "<matplotlib.axes._subplots.AxesSubplot at 0x7f3d52e62910>"
            ]
          },
          "metadata": {},
          "execution_count": 244
        },
        {
          "output_type": "display_data",
          "data": {
            "image/png": "[encoded data removed]",
            "text/plain": [
              "<Figure size 720x504 with 1 Axes>"
            ]
          },
          "metadata": {
            "needs_background": "light"
          }
        }
      ]
    },
    {
      "cell_type": "markdown",
      "metadata": {
        "id": "F64si4-9ulcu"
      },
      "source": [
        "Our age analysis depicted that we had outliers in the Respondent Age column"
      ]
    },
    {
      "cell_type": "code",
      "metadata": {
        "colab": {
          "base_uri": "https://localhost:8080/",
          "height": 265
        },
        "id": "6iigIWjNu-be",
        "outputId": "a5a3973e-2bd9-4b08-ae7a-2281896dfbc1"
      },
      "source": [
        "tp = df2['Bank account'].unique()\n",
        "country = df2.groupby(['Bank account'])[\"uniqueid\"].count()\n",
        "\n",
        "plt.pie(country, labels = tp, autopct = '%1.1f%%', shadow = True, startangle = 90)\n",
        "plt.axis('equal')\n",
        "plt.title('Pie Chart of % of Total Respondents having Bank accounts', fontsize=14)\n",
        "plt.show()"
      ],
      "execution_count": null,
      "outputs": [
        {
          "output_type": "display_data",
          "data": {
            "image/png": "[encoded data removed]",
            "text/plain": [
              "<Figure size 432x288 with 1 Axes>"
            ]
          },
          "metadata": {}
        }
      ]
    },
    {
      "cell_type": "markdown",
      "metadata": {
        "id": "A5-3i3inu4Qi"
      },
      "source": [
        "86% of our respondents said that they have a Bank account"
      ]
    },
    {
      "cell_type": "markdown",
      "metadata": {
        "id": "iJAO62k8VryW"
      },
      "source": [
        "# **Numerical variables**"
      ]
    },
    {
      "cell_type": "code",
      "metadata": {
        "colab": {
          "base_uri": "https://localhost:8080/",
          "height": 815
        },
        "id": "AdvgoxgXVA7V",
        "outputId": "5bb96402-2d2e-4f6a-d086-38b3b0dcd4da"
      },
      "source": [
        "#Analyzing numerical columns\n",
        "\n",
        "col_names = ['household_size','Respondent Age']\n",
        "\n",
        "fig, ax = plt.subplots(len(col_names), figsize=(10,12))\n",
        "\n",
        "for i, col_val in enumerate(col_names):\n",
        "\n",
        "    sns.distplot(df[col_val], hist=True, ax=ax[i],color= 'green')\n",
        "    ax[i].set_title('Freq dist '+col_val, fontsize=10)\n",
        "    ax[i].set_xlabel(col_val, fontsize=8)\n",
        "    ax[i].set_ylabel('Count', fontsize=8)\n",
        "\n",
        "plt.show()"
      ],
      "execution_count": null,
      "outputs": [
        {
          "output_type": "stream",
          "name": "stderr",
          "text": [
            "/usr/local/lib/python3.7/dist-packages/seaborn/distributions.py:2557: FutureWarning: `distplot` is a deprecated function and will be removed in a future version. Please adapt your code to use either `displot` (a figure-level function with similar flexibility) or `histplot` (an axes-level function for histograms).\n",
            "  warnings.warn(msg, FutureWarning)\n",
            "/usr/local/lib/python3.7/dist-packages/seaborn/distributions.py:2557: FutureWarning: `distplot` is a deprecated function and will be removed in a future version. Please adapt your code to use either `displot` (a figure-level function with similar flexibility) or `histplot` (an axes-level function for histograms).\n",
            "  warnings.warn(msg, FutureWarning)\n"
          ]
        },
        {
          "output_type": "display_data",
          "data": {
            "image/png": "[encoded data removed]",
            "text/plain": [
              "<Figure size 720x864 with 2 Axes>"
            ]
          },
          "metadata": {
            "needs_background": "light"
          }
        }
      ]
    },
    {
      "cell_type": "markdown",
      "metadata": {
        "id": "NoP3rN-eVxSL"
      },
      "source": [
        "**Measures of Central tendency**"
      ]
    },
    {
      "cell_type": "code",
      "metadata": {
        "colab": {
          "base_uri": "https://localhost:8080/",
          "height": 139
        },
        "id": "Vrb6FA2AV4T2",
        "outputId": "e7abe5ea-8ba5-4783-fbe4-2bb033b9fdc2"
      },
      "source": [
        "#Size of the Household\n",
        "\n",
        "display(\"The average household size is \",df2['household_size'].mean())\n",
        "display(\"The median household size is \", df2['household_size'].median())\n",
        "display(\"The household size with highest frequency is \", df2['household_size'].mode())"
      ],
      "execution_count": null,
      "outputs": [
        {
          "output_type": "display_data",
          "data": {
            "application/vnd.google.colaboratory.intrinsic+json": {
              "type": "string"
            },
            "text/plain": [
              "'The average household size is '"
            ]
          },
          "metadata": {}
        },
        {
          "output_type": "display_data",
          "data": {
            "text/plain": [
              "3.6886432763569377"
            ]
          },
          "metadata": {}
        },
        {
          "output_type": "display_data",
          "data": {
            "application/vnd.google.colaboratory.intrinsic+json": {
              "type": "string"
            },
            "text/plain": [
              "'The median household size is '"
            ]
          },
          "metadata": {}
        },
        {
          "output_type": "display_data",
          "data": {
            "text/plain": [
              "3.0"
            ]
          },
          "metadata": {}
        },
        {
          "output_type": "display_data",
          "data": {
            "application/vnd.google.colaboratory.intrinsic+json": {
              "type": "string"
            },
            "text/plain": [
              "'The household size with highest frequency is '"
            ]
          },
          "metadata": {}
        },
        {
          "output_type": "display_data",
          "data": {
            "text/plain": [
              "0    2.0\n",
              "dtype: float64"
            ]
          },
          "metadata": {}
        }
      ]
    },
    {
      "cell_type": "code",
      "metadata": {
        "colab": {
          "base_uri": "https://localhost:8080/",
          "height": 139
        },
        "id": "VW0rRau3X2cj",
        "outputId": "bec26918-a55e-4160-8940-41cb3b5bc65c"
      },
      "source": [
        "#Respondents Age\n",
        "\n",
        "display(\"The average age is \",df2['Respondent Age'].mean())\n",
        "display(\"The median Age is \", df2['Respondent Age'].median())\n",
        "display(\"The mode Age is \", df2['Respondent Age'].mode())"
      ],
      "execution_count": null,
      "outputs": [
        {
          "output_type": "display_data",
          "data": {
            "application/vnd.google.colaboratory.intrinsic+json": {
              "type": "string"
            },
            "text/plain": [
              "'The average age is '"
            ]
          },
          "metadata": {}
        },
        {
          "output_type": "display_data",
          "data": {
            "text/plain": [
              "38.80550914621085"
            ]
          },
          "metadata": {}
        },
        {
          "output_type": "display_data",
          "data": {
            "application/vnd.google.colaboratory.intrinsic+json": {
              "type": "string"
            },
            "text/plain": [
              "'The median Age is '"
            ]
          },
          "metadata": {}
        },
        {
          "output_type": "display_data",
          "data": {
            "text/plain": [
              "35.0"
            ]
          },
          "metadata": {}
        },
        {
          "output_type": "display_data",
          "data": {
            "application/vnd.google.colaboratory.intrinsic+json": {
              "type": "string"
            },
            "text/plain": [
              "'The mode Age is '"
            ]
          },
          "metadata": {}
        },
        {
          "output_type": "display_data",
          "data": {
            "text/plain": [
              "0    30.0\n",
              "dtype: float64"
            ]
          },
          "metadata": {}
        }
      ]
    },
    {
      "cell_type": "markdown",
      "metadata": {
        "id": "zGNEhyopXwTk"
      },
      "source": [
        "**Measures of Dispersion**"
      ]
    },
    {
      "cell_type": "code",
      "metadata": {
        "colab": {
          "base_uri": "https://localhost:8080/",
          "height": 243
        },
        "id": "97PU9TShXAtb",
        "outputId": "2ef9f077-1797-4a22-88df-9740c741c9d4"
      },
      "source": [
        "#Respondents Age\n",
        "\n",
        "display(\"Age variance is \",df2['Respondent Age'].var())\n",
        "display(\"Age standard deviation is \", df2['Respondent Age'].std())\n",
        "display(\"Age quantiles\", df2['Respondent Age'].quantile([0.25,0.50,0.75 ]))\n",
        "display(\"Age skew\", df2['Respondent Age'].skew())\n",
        "display(\"Age kurtosis\", df2['Respondent Age'].kurt())"
      ],
      "execution_count": null,
      "outputs": [
        {
          "output_type": "display_data",
          "data": {
            "application/vnd.google.colaboratory.intrinsic+json": {
              "type": "string"
            },
            "text/plain": [
              "'Age variance is '"
            ]
          },
          "metadata": {}
        },
        {
          "output_type": "display_data",
          "data": {
            "text/plain": [
              "272.90390761391353"
            ]
          },
          "metadata": {}
        },
        {
          "output_type": "display_data",
          "data": {
            "application/vnd.google.colaboratory.intrinsic+json": {
              "type": "string"
            },
            "text/plain": [
              "'Age standard deviation is '"
            ]
          },
          "metadata": {}
        },
        {
          "output_type": "display_data",
          "data": {
            "text/plain": [
              "16.51980349804178"
            ]
          },
          "metadata": {}
        },
        {
          "output_type": "display_data",
          "data": {
            "application/vnd.google.colaboratory.intrinsic+json": {
              "type": "string"
            },
            "text/plain": [
              "'Age quantiles'"
            ]
          },
          "metadata": {}
        },
        {
          "output_type": "display_data",
          "data": {
            "text/plain": [
              "0.25    26.0\n",
              "0.50    35.0\n",
              "0.75    49.0\n",
              "Name: Respondent Age, dtype: float64"
            ]
          },
          "metadata": {}
        },
        {
          "output_type": "display_data",
          "data": {
            "application/vnd.google.colaboratory.intrinsic+json": {
              "type": "string"
            },
            "text/plain": [
              "'Age skew'"
            ]
          },
          "metadata": {}
        },
        {
          "output_type": "display_data",
          "data": {
            "text/plain": [
              "0.840661747532081"
            ]
          },
          "metadata": {}
        },
        {
          "output_type": "display_data",
          "data": {
            "application/vnd.google.colaboratory.intrinsic+json": {
              "type": "string"
            },
            "text/plain": [
              "'Age kurtosis'"
            ]
          },
          "metadata": {}
        },
        {
          "output_type": "display_data",
          "data": {
            "text/plain": [
              "0.09844652254807196"
            ]
          },
          "metadata": {}
        }
      ]
    },
    {
      "cell_type": "code",
      "metadata": {
        "colab": {
          "base_uri": "https://localhost:8080/",
          "height": 243
        },
        "id": "YL7SbJ7DaHYZ",
        "outputId": "31121aa2-afb6-49d0-a5f3-74094c783ea8"
      },
      "source": [
        "#Household Size\n",
        "\n",
        "display(\"household_size Variance is \",df2['household_size'].var())\n",
        "display(\"household_size standard deviation is \", df2['household_size'].std())\n",
        "display(\"household_size quantiles\", df2['household_size'].quantile([0.25,0.50,0.75 ]))\n",
        "display(\"household_size skew\", df2['household_size'].skew())\n",
        "display(\"household_size kurtosis\", df2['household_size'].kurt())"
      ],
      "execution_count": null,
      "outputs": [
        {
          "output_type": "display_data",
          "data": {
            "application/vnd.google.colaboratory.intrinsic+json": {
              "type": "string"
            },
            "text/plain": [
              "'household_size Variance is '"
            ]
          },
          "metadata": {}
        },
        {
          "output_type": "display_data",
          "data": {
            "text/plain": [
              "5.20379827489179"
            ]
          },
          "metadata": {}
        },
        {
          "output_type": "display_data",
          "data": {
            "application/vnd.google.colaboratory.intrinsic+json": {
              "type": "string"
            },
            "text/plain": [
              "'household_size standard deviation is '"
            ]
          },
          "metadata": {}
        },
        {
          "output_type": "display_data",
          "data": {
            "text/plain": [
              "2.2811835250351495"
            ]
          },
          "metadata": {}
        },
        {
          "output_type": "display_data",
          "data": {
            "application/vnd.google.colaboratory.intrinsic+json": {
              "type": "string"
            },
            "text/plain": [
              "'household_size quantiles'"
            ]
          },
          "metadata": {}
        },
        {
          "output_type": "display_data",
          "data": {
            "text/plain": [
              "0.25    2.0\n",
              "0.50    3.0\n",
              "0.75    5.0\n",
              "Name: household_size, dtype: float64"
            ]
          },
          "metadata": {}
        },
        {
          "output_type": "display_data",
          "data": {
            "application/vnd.google.colaboratory.intrinsic+json": {
              "type": "string"
            },
            "text/plain": [
              "'household_size skew'"
            ]
          },
          "metadata": {}
        },
        {
          "output_type": "display_data",
          "data": {
            "text/plain": [
              "0.9741086837897069"
            ]
          },
          "metadata": {}
        },
        {
          "output_type": "display_data",
          "data": {
            "application/vnd.google.colaboratory.intrinsic+json": {
              "type": "string"
            },
            "text/plain": [
              "'household_size kurtosis'"
            ]
          },
          "metadata": {}
        },
        {
          "output_type": "display_data",
          "data": {
            "text/plain": [
              "1.1538690689335573"
            ]
          },
          "metadata": {}
        }
      ]
    },
    {
      "cell_type": "markdown",
      "metadata": {
        "id": "xtv8ZQp-cAlu"
      },
      "source": [
        "# **Bivariate Analysis**"
      ]
    },
    {
      "cell_type": "code",
      "metadata": {
        "colab": {
          "base_uri": "https://localhost:8080/",
          "height": 296
        },
        "id": "MlcetKz2cGjb",
        "outputId": "93fc3506-6ab1-47cb-df24-6952a54a0b60"
      },
      "source": [
        "#Using the seaborn function regplot to create our scatterplot\n",
        "sns.regplot(x = df2[\"household_size\"], y = df2[\"Respondent Age\"], fit_reg=False)\n",
        "\n",
        "# # Giving our scatterplot a title\n",
        "plt.title('Respondent Age vs Household size')\n",
        "\n",
        "# # We then display our scatterplot as shown below\n",
        "plt.show()"
      ],
      "execution_count": null,
      "outputs": [
        {
          "output_type": "display_data",
          "data": {
            "image/png": "[encoded data removed]",
            "text/plain": [
              "<Figure size 432x288 with 1 Axes>"
            ]
          },
          "metadata": {
            "needs_background": "light"
          }
        }
      ]
    },
    {
      "cell_type": "markdown",
      "metadata": {
        "id": "8JKWxdkQdvF3"
      },
      "source": [
        "**Correlation**"
      ]
    },
    {
      "cell_type": "code",
      "metadata": {
        "colab": {
          "base_uri": "https://localhost:8080/"
        },
        "id": "-N-sQ0ZGdyOc",
        "outputId": "2fefc724-b4a4-477a-9ae5-8e482e0d7af6"
      },
      "source": [
        "#correlation between the Respondents age and Household size\n",
        "\n",
        "coeff = df2[\"household_size\"].corr(df2[\"Respondent Age\"], method=\"pearson\") \n",
        "print(coeff)\n",
        "\n",
        "## there seem to be very weak negative correlation between respondents age and household sizes"
      ],
      "execution_count": null,
      "outputs": [
        {
          "output_type": "stream",
          "name": "stdout",
          "text": [
            "-0.11970919507762415\n"
          ]
        }
      ]
    },
    {
      "cell_type": "code",
      "metadata": {
        "colab": {
          "base_uri": "https://localhost:8080/",
          "height": 357
        },
        "id": "GjXo_d-yfrHk",
        "outputId": "58d826a8-90b9-406f-8343-17f86de6080a"
      },
      "source": [
        "#Gender vs having a Bank account\n",
        "\n",
        "plt.figure(figsize=(15, 10))\n",
        "pd.crosstab(df2['Gender'], df2['Bank account']).plot(kind='bar', stacked=True)\n",
        "plt.title('Stacked chart of Age and having a Bank Account', fontsize=15)"
      ],
      "execution_count": null,
      "outputs": [
        {
          "output_type": "execute_result",
          "data": {
            "text/plain": [
              "Text(0.5, 1.0, 'Stacked chart of Age and having a Bank Account')"
            ]
          },
          "metadata": {},
          "execution_count": 253
        },
        {
          "output_type": "display_data",
          "data": {
            "text/plain": [
              "<Figure size 1080x720 with 0 Axes>"
            ]
          },
          "metadata": {}
        },
        {
          "output_type": "display_data",
          "data": {
            "image/png": "[encoded data removed]",
            "text/plain": [
              "<Figure size 432x288 with 1 Axes>"
            ]
          },
          "metadata": {
            "needs_background": "light"
          }
        }
      ]
    },
    {
      "cell_type": "code",
      "metadata": {
        "colab": {
          "base_uri": "https://localhost:8080/",
          "height": 317
        },
        "id": "v2BnQGz3mUdf",
        "outputId": "eb2437d4-79b8-4294-f62c-e30fdd061993"
      },
      "source": [
        "#Education level vs Having a bank account\n",
        "\n",
        "plt.figure(figsize=(15, 10))\n",
        "pd.crosstab(df2['Level of Educuation'], df2['Bank account']).plot(kind='barh', stacked=True)\n",
        "plt.title('Stacked chart of Education Level and having a Bank Account', fontsize=15)"
      ],
      "execution_count": null,
      "outputs": [
        {
          "output_type": "execute_result",
          "data": {
            "text/plain": [
              "Text(0.5, 1.0, 'Stacked chart of Education Level and having a Bank Account')"
            ]
          },
          "metadata": {},
          "execution_count": 254
        },
        {
          "output_type": "display_data",
          "data": {
            "text/plain": [
              "<Figure size 1080x720 with 0 Axes>"
            ]
          },
          "metadata": {}
        },
        {
          "output_type": "display_data",
          "data": {
            "image/png": "[encoded data removed]",
            "text/plain": [
              "<Figure size 432x288 with 1 Axes>"
            ]
          },
          "metadata": {
            "needs_background": "light"
          }
        }
      ]
    },
    {
      "cell_type": "code",
      "metadata": {
        "colab": {
          "base_uri": "https://localhost:8080/",
          "height": 347
        },
        "id": "4SzCg9EBzMFq",
        "outputId": "70c85c5f-1aac-4310-cebd-a52b47582658"
      },
      "source": [
        "plt.figure(figsize=(15, 10))\n",
        "pd.crosstab(df2['year'], df2['Bank account']).plot(kind='bar', stacked=True)\n",
        "plt.title('Stacked chart of Age and having a Bank Account', fontsize=15)"
      ],
      "execution_count": null,
      "outputs": [
        {
          "output_type": "execute_result",
          "data": {
            "text/plain": [
              "Text(0.5, 1.0, 'Stacked chart of Age and having a Bank Account')"
            ]
          },
          "metadata": {},
          "execution_count": 227
        },
        {
          "output_type": "display_data",
          "data": {
            "text/plain": [
              "<Figure size 1080x720 with 0 Axes>"
            ]
          },
          "metadata": {}
        },
        {
          "output_type": "display_data",
          "data": {
            "image/png": "[encoded data removed]",
            "text/plain": [
              "<Figure size 432x288 with 1 Axes>"
            ]
          },
          "metadata": {
            "needs_background": "light"
          }
        }
      ]
    },
    {
      "cell_type": "code",
      "metadata": {
        "colab": {
          "base_uri": "https://localhost:8080/",
          "height": 348
        },
        "id": "x5-Rr_IdJCOT",
        "outputId": "a1b29f62-9c1e-41b2-fcc7-702796e8680c"
      },
      "source": [
        "#Those who have bank accounts based on country\n",
        "pd.crosstab(df2['country'], df2['Bank account']).plot(kind='bar', stacked=True)\n",
        "plt.title('Stacked chart of Country and having a Bank Account', fontsize=15)"
      ],
      "execution_count": null,
      "outputs": [
        {
          "output_type": "execute_result",
          "data": {
            "text/plain": [
              "Text(0.5, 1.0, 'Stacked chart of Country and having a Bank Account')"
            ]
          },
          "metadata": {},
          "execution_count": 257
        },
        {
          "output_type": "display_data",
          "data": {
            "image/png": "[encoded data removed]",
            "text/plain": [
              "<Figure size 432x288 with 1 Axes>"
            ]
          },
          "metadata": {
            "needs_background": "light"
          }
        }
      ]
    },
    {
      "cell_type": "markdown",
      "metadata": {
        "id": "qUDsoibV7Zfd"
      },
      "source": [
        "#**Multivariate Analysis**"
      ]
    },
    {
      "cell_type": "code",
      "metadata": {
        "id": "rg2v4nNJ7fgF"
      },
      "source": [
        ""
      ],
      "execution_count": null,
      "outputs": []
    },
    {
      "cell_type": "markdown",
      "metadata": {
        "id": "PbM8ZUaL7qm-"
      },
      "source": [
        "# **INSIGHTS FOR IMPROVEMENT**"
      ]
    },
    {
      "cell_type": "markdown",
      "metadata": {
        "id": "e04jHYhp7xTs"
      },
      "source": [
        "1. For future studies, data with more variables can be used to be able to measure underlying issues like satisfaction and other factors that may influence banking penetration. This will also enable comparing the results with other ML methodologies used like Factor analysis."
      ]
    }
  ]
}